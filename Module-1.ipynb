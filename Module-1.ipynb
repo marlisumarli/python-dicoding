{
 "cells": [
  {
   "cell_type": "code",
   "metadata": {
    "ExecuteTime": {
     "end_time": "2025-02-08T19:34:43.402785Z",
     "start_time": "2025-02-08T19:34:43.398538Z"
    }
   },
   "source": [
    "name = \"Perseus Evans\"\n",
    "print(f\"Hello, nama saya {name}\")\n"
   ],
   "outputs": [
    {
     "name": "stdout",
     "output_type": "stream",
     "text": [
      "Hello, nama saya Perseus Evans\n"
     ]
    }
   ],
   "execution_count": 1
  },
  {
   "cell_type": "code",
   "metadata": {
    "ExecuteTime": {
     "end_time": "2025-02-08T19:35:35.744793Z",
     "start_time": "2025-02-08T19:35:35.728110Z"
    }
   },
   "source": [
    "name = \"Perseus Evans\"\n",
    "print(\"Nama saya %s\" % (name))"
   ],
   "outputs": [
    {
     "name": "stdout",
     "output_type": "stream",
     "text": [
      "Nama saya Perseus Evans\n"
     ]
    }
   ],
   "execution_count": 2
  },
  {
   "cell_type": "code",
   "metadata": {
    "ExecuteTime": {
     "end_time": "2025-02-08T19:35:39.344728Z",
     "start_time": "2025-02-08T19:35:39.341959Z"
    }
   },
   "source": [
    "x = [1, 2.2, 'Dicoding']\n",
    "print(id(x))\n",
    "x[0] = 'Indonesia'\n",
    "print(id(x))\n",
    "print(x)"
   ],
   "outputs": [
    {
     "name": "stdout",
     "output_type": "stream",
     "text": [
      "4402137216\n",
      "4402137216\n",
      "['Indonesia', 2.2, 'Dicoding']\n"
     ]
    }
   ],
   "execution_count": 3
  },
  {
   "cell_type": "code",
   "metadata": {
    "ExecuteTime": {
     "end_time": "2025-02-08T19:35:42.383996Z",
     "start_time": "2025-02-08T19:35:42.381573Z"
    }
   },
   "source": [
    "lulus = True \n",
    "print(\"Dicoding Indonesia\") if lulus else print(\"Python\")"
   ],
   "outputs": [
    {
     "name": "stdout",
     "output_type": "stream",
     "text": [
      "Dicoding Indonesia\n"
     ]
    }
   ],
   "execution_count": 5
  },
  {
   "cell_type": "code",
   "metadata": {
    "ExecuteTime": {
     "end_time": "2025-02-08T19:35:43.834692Z",
     "start_time": "2025-02-08T19:35:43.828393Z"
    }
   },
   "source": [
    "import array\n",
    "\n",
    "x = array.array(\"i\",[1, 2, 3, 4, 5])\n",
    "print(x)\n",
    "print(type(x))\n",
    "\n",
    "\"\"\"\n",
    "Output:\n",
    "array('i', [1, 2, 3, 4, 5])\n",
    "<class 'array.array'>\n",
    "\"\"\""
   ],
   "outputs": [
    {
     "name": "stdout",
     "output_type": "stream",
     "text": [
      "array('i', [1, 2, 3, 4, 5])\n",
      "<class 'array.array'>\n"
     ]
    },
    {
     "data": {
      "text/plain": [
       "\"\\nOutput:\\narray('i', [1, 2, 3, 4, 5])\\n<class 'array.array'>\\n\""
      ]
     },
     "execution_count": 6,
     "metadata": {},
     "output_type": "execute_result"
    }
   ],
   "execution_count": 6
  },
  {
   "metadata": {
    "ExecuteTime": {
     "end_time": "2025-02-08T20:41:39.268899Z",
     "start_time": "2025-02-08T20:41:39.260695Z"
    }
   },
   "cell_type": "code",
   "source": [
    "nilai = 68\n",
    "if nilai>=80:\n",
    "    print(\"Selamat! Anda mendapat nilai A\")\n",
    "elif nilai>=60:\n",
    "    print(\"Hmm.. Anda mendapat nilai B\")\n",
    "else:\n",
    "    print(\"Waduh, Anda mendapat nilai C\")"
   ],
   "outputs": [
    {
     "name": "stdout",
     "output_type": "stream",
     "text": [
      "Hmm.. Anda mendapat nilai B\n"
     ]
    }
   ],
   "execution_count": 10
  }
 ],
 "metadata": {
  "kernelspec": {
   "display_name": "Python (my_env)",
   "language": "python",
   "name": "my_env"
  },
  "language_info": {
   "codemirror_mode": {
    "name": "ipython",
    "version": 3
   },
   "file_extension": ".py",
   "mimetype": "text/x-python",
   "name": "python",
   "nbconvert_exporter": "python",
   "pygments_lexer": "ipython3",
   "version": "3.11.11"
  }
 },
 "nbformat": 4,
 "nbformat_minor": 2
}
