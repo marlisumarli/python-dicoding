{
 "cells": [
  {
   "cell_type": "code",
   "execution_count": 3,
   "metadata": {},
   "outputs": [
    {
     "name": "stdout",
     "output_type": "stream",
     "text": [
      "Hello, nama saya Perseus Evans\n"
     ]
    }
   ],
   "source": [
    "name = \"Perseus Evans\"\n",
    "print(f\"Hello, nama saya {name}\")\n"
   ]
  },
  {
   "cell_type": "code",
   "execution_count": 4,
   "metadata": {},
   "outputs": [
    {
     "name": "stdout",
     "output_type": "stream",
     "text": [
      "Nama saya Perseus Evans\n"
     ]
    }
   ],
   "source": [
    "name = \"Perseus Evans\"\n",
    "print(\"Nama saya %s\" % (name))"
   ]
  },
  {
   "cell_type": "code",
   "execution_count": 5,
   "metadata": {},
   "outputs": [
    {
     "name": "stdout",
     "output_type": "stream",
     "text": [
      "4569101312\n",
      "4569101312\n",
      "['Indonesia', 2.2, 'Dicoding']\n"
     ]
    }
   ],
   "source": [
    "x = [1, 2.2, 'Dicoding']\n",
    "print(id(x))\n",
    "x[0] = 'Indonesia'\n",
    "print(id(x))\n",
    "print(x)"
   ]
  },
  {
   "cell_type": "code",
   "execution_count": 17,
   "metadata": {},
   "outputs": [
    {
     "name": "stdout",
     "output_type": "stream",
     "text": [
      "Dicoding Indonesia\n"
     ]
    }
   ],
   "source": [
    "lulus = True \n",
    "print(\"Dicoding Indonesia\") if lulus else print(\"Python\")"
   ]
  },
  {
   "cell_type": "code",
   "execution_count": 20,
   "metadata": {},
   "outputs": [
    {
     "name": "stdout",
     "output_type": "stream",
     "text": [
      "array('i', [1, 2, 3, 4, 5])\n",
      "<class 'array.array'>\n"
     ]
    },
    {
     "data": {
      "text/plain": [
       "\"\\nOutput:\\narray('i', [1, 2, 3, 4, 5])\\n<class 'array.array'>\\n\""
      ]
     },
     "execution_count": 20,
     "metadata": {},
     "output_type": "execute_result"
    }
   ],
   "source": [
    "import array\n",
    "\n",
    "x = array.array(\"i\",[1, 2, 3, 4, 5])\n",
    "print(x)\n",
    "print(type(x))\n",
    "\n",
    "\"\"\"\n",
    "Output:\n",
    "array('i', [1, 2, 3, 4, 5])\n",
    "<class 'array.array'>\n",
    "\"\"\""
   ]
  }
 ],
 "metadata": {
  "kernelspec": {
   "display_name": "my_env",
   "language": "python",
   "name": "python3"
  },
  "language_info": {
   "codemirror_mode": {
    "name": "ipython",
    "version": 3
   },
   "file_extension": ".py",
   "mimetype": "text/x-python",
   "name": "python",
   "nbconvert_exporter": "python",
   "pygments_lexer": "ipython3",
   "version": "3.11.11"
  }
 },
 "nbformat": 4,
 "nbformat_minor": 2
}
